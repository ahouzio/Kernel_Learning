{
 "cells": [
  {
   "cell_type": "code",
   "execution_count": null,
   "metadata": {},
   "outputs": [],
   "source": [
    "# read data/train image folder\n",
    "import glob\n",
    "img = glob.glob\n"
   ]
  }
 ],
 "metadata": {
  "kernelspec": {
   "display_name": "Python 3.8.13 ('DATA_CHALLENGE')",
   "language": "python",
   "name": "python3"
  },
  "language_info": {
   "name": "python",
   "version": "3.8.13"
  },
  "orig_nbformat": 4,
  "vscode": {
   "interpreter": {
    "hash": "94f1d4e04b708dbe9d318ec2c30be98f3704c3b7b26e76b6efdfdc3861133144"
   }
  }
 },
 "nbformat": 4,
 "nbformat_minor": 2
}
